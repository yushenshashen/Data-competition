{
 "cells": [
  {
   "cell_type": "code",
   "execution_count": 8,
   "metadata": {},
   "outputs": [
    {
     "name": "stdout",
     "output_type": "stream",
     "text": [
      "['', '/Users/zp', '/anaconda3/lib/python37.zip', '/anaconda3/lib/python3.7', '/anaconda3/lib/python3.7/lib-dynload', '/anaconda3/lib/python3.7/site-packages', '/anaconda3/lib/python3.7/site-packages/aeosa', '/anaconda3/lib/python3.7/site-packages/IPython/extensions', '/Users/zp/.ipython']\n"
     ]
    }
   ],
   "source": [
    "#date: 2019-1-2\n",
    "#goal: practice with pandas\n",
    "#author: zp"
   ]
  },
  {
   "cell_type": "code",
   "execution_count": null,
   "metadata": {},
   "outputs": [],
   "source": [
    "import sklearn\n",
    "import sys\n",
    "print(sys.path)\n",
    "import pandas as pd\n",
    "import numpy as np\n",
    "import matplotlib.pyplot as plt"
   ]
  },
  {
   "cell_type": "code",
   "execution_count": 95,
   "metadata": {},
   "outputs": [
    {
     "name": "stdout",
     "output_type": "stream",
     "text": [
      "              cand_nm           contbr_nm contbr_st        contbr_employer  \\\n",
      "0  Bachmann, Michelle     HARVEY, WILLIAM        AL                RETIRED   \n",
      "1  Bachmann, Michelle     HARVEY, WILLIAM        AL                RETIRED   \n",
      "2  Bachmann, Michelle       SMITH, LANIER        AL  INFORMATION REQUESTED   \n",
      "3  Bachmann, Michelle    BLEVINS, DARONDA        AR                   NONE   \n",
      "4  Bachmann, Michelle  WARDENBURG, HAROLD        AR                   NONE   \n",
      "\n",
      "       contbr_occupation  contb_receipt_amt contb_receipt_dt  \n",
      "0                RETIRED              250.0        20-JUN-11  \n",
      "1                RETIRED               50.0        23-JUN-11  \n",
      "2  INFORMATION REQUESTED              250.0        05-JUL-11  \n",
      "3                RETIRED              250.0        01-AUG-11  \n",
      "4                RETIRED              300.0        20-JUN-11  \n",
      "(1001733, 7)\n",
      "<class 'pandas.core.frame.DataFrame'>\n",
      "Int64Index: 1001733 entries, 0 to 1730\n",
      "Data columns (total 7 columns):\n",
      "cand_nm              1001733 non-null object\n",
      "contbr_nm            1001733 non-null object\n",
      "contbr_st            1001729 non-null object\n",
      "contbr_employer      988004 non-null object\n",
      "contbr_occupation    993303 non-null object\n",
      "contb_receipt_amt    1001733 non-null float64\n",
      "contb_receipt_dt     1001733 non-null object\n",
      "dtypes: float64(1), object(6)\n",
      "memory usage: 61.1+ MB\n",
      "['Bachmann, Michelle' 'Romney, Mitt' 'Obama, Barack'\n",
      " \"Roemer, Charles E. 'Buddy' III\" 'Pawlenty, Timothy' 'Johnson, Gary Earl'\n",
      " 'Paul, Ron' 'Santorum, Rick' 'Cain, Herman' 'Gingrich, Newt'\n",
      " 'McCotter, Thaddeus G' 'Huntsman, Jon' 'Perry, Rick']\n",
      "there is 13.00 candidate\n",
      "          cand_nm           contbr_nm contbr_st  \\\n",
      "411  Romney, Mitt  ELDERBAUM, WILLIAM        AA   \n",
      "412  Romney, Mitt  ELDERBAUM, WILLIAM        AA   \n",
      "413  Romney, Mitt    CARLSEN, RICHARD        AE   \n",
      "414  Romney, Mitt      DELUCA, PIERRE        AE   \n",
      "415  Romney, Mitt    SARGENT, MICHAEL        AE   \n",
      "\n",
      "                      contbr_employer          contbr_occupation  \\\n",
      "411                     US GOVERNMENT    FOREIGN SERVICE OFFICER   \n",
      "412                     US GOVERNMENT    FOREIGN SERVICE OFFICER   \n",
      "413       DEFENSE INTELLIGENCE AGENCY       INTELLIGENCE ANALYST   \n",
      "414                             CISCO                   ENGINEER   \n",
      "415  RAYTHEON TECHNICAL SERVICES CORP  COMPUTER SYSTEMS ENGINEER   \n",
      "\n",
      "     contb_receipt_amt contb_receipt_dt       party  \n",
      "411               25.0        01-FEB-12  Republican  \n",
      "412              110.0        01-FEB-12  Republican  \n",
      "413              250.0        13-APR-12  Republican  \n",
      "414               30.0        21-AUG-11  Republican  \n",
      "415              100.0        07-MAR-12  Republican  \n",
      "411      (10, 100]\n",
      "412    (100, 1000]\n",
      "413    (100, 1000]\n",
      "414      (10, 100]\n",
      "415      (10, 100]\n",
      "416      (10, 100]\n",
      "417    (100, 1000]\n",
      "418      (10, 100]\n",
      "419    (100, 1000]\n",
      "420      (10, 100]\n",
      "Name: contb_receipt_amt, dtype: category\n",
      "Categories (8, interval[int64]): [(0, 1] < (1, 10] < (10, 100] < (100, 1000] < (1000, 10000] < (10000, 100000] < (100000, 1000000] < (1000000, 10000000]]\n",
      "              cand_nm           contbr_nm contbr_st contbr_employer  \\\n",
      "0  Bachmann, Michelle     HARVEY, WILLIAM        AL         RETIRED   \n",
      "1  Bachmann, Michelle     HARVEY, WILLIAM        AL         RETIRED   \n",
      "2  Bachmann, Michelle       SMITH, LANIER        AL    NOT PROVIDED   \n",
      "3  Bachmann, Michelle    BLEVINS, DARONDA        AR            NONE   \n",
      "4  Bachmann, Michelle  WARDENBURG, HAROLD        AR            NONE   \n",
      "\n",
      "  contbr_occupation  contb_receipt_amt contb_receipt_dt       party  \n",
      "0           RETIRED              250.0        20-JUN-11  Republican  \n",
      "1           RETIRED               50.0        23-JUN-11  Republican  \n",
      "2      NOT PROVIDED              250.0        05-JUL-11  Republican  \n",
      "3           RETIRED              250.0        01-AUG-11  Republican  \n",
      "4           RETIRED              300.0        20-JUN-11  Republican  \n",
      "party                                Democrat  Republican\n",
      "contbr_occupation                                        \n",
      "   MIXED-MEDIA ARTIST / STORYTELLER     100.0         NaN\n",
      " AREA VICE PRESIDENT                    250.0         NaN\n",
      " RESEARCH ASSOCIATE                     100.0         NaN\n",
      " TEACHER                                500.0         NaN\n",
      " THERAPIST                             3900.0         NaN\n"
     ]
    },
    {
     "data": {
      "text/plain": [
       "<matplotlib.axes._subplots.AxesSubplot at 0xa2db74d68>"
      ]
     },
     "execution_count": 95,
     "metadata": {},
     "output_type": "execute_result"
    },
    {
     "data": {
      "image/png": "[encoded data removed]",
      "text/plain": [
       "<Figure size 432x288 with 1 Axes>"
      ]
     },
     "metadata": {
      "needs_background": "light"
     },
     "output_type": "display_data"
    }
   ],
   "source": [
    "data_01 = pd.read_csv('/Users/zp/Desktop/data_mining/Tianchi/2012USApresidentselection/data_01.csv')\n",
    "print(data_01[:5])\n",
    "data_02 = pd.read_csv('/Users/zp/Desktop/data_mining/Tianchi/2012USApresidentselection/data_02.csv')\n",
    "data_03 = pd.read_csv('/Users/zp/Desktop/data_mining/Tianchi/2012USApresidentselection/data_03.csv')\n",
    "data = pd.concat([data_01, data_02, data_03],axis=0, join='outer')\n",
    "print(data.shape)\n",
    "data.head()\n",
    "data.info()\n",
    "data.describe()\n",
    "# data[pd.isnull(data['contbr_employer']),:5]\n",
    "pd.isna(data['contbr_employer']).head()\n",
    "# data['contbr_employer'].isna().head()\n",
    "\n",
    "data['contbr_employer'].fillna('Not Provided', inplace=True)\n",
    "data['contbr_occupation'].fillna('Not Provided', inplace=True)\n",
    "\n",
    "print(data['cand_nm'].unique())\n",
    "print('there is {:.2f} candidate'.format(len(data['cand_nm'].unique())))\n",
    "parties = {'Bachmann, Michelle': 'Republican',\n",
    "           'Cain, Herman': 'Republican',\n",
    "           'Gingrich, Newt': 'Republican',\n",
    "           'Huntsman, Jon': 'Republican',\n",
    "           'Johnson, Gary Earl': 'Republican',\n",
    "           'McCotter, Thaddeus G': 'Republican',\n",
    "           'Obama, Barack': 'Democrat',\n",
    "           'Paul, Ron': 'Republican',\n",
    "           'Pawlenty, Timothy': 'Republican',\n",
    "           'Perry, Rick': 'Republican',\n",
    "           \"Roemer, Charles E. 'Buddy' III\": 'Republican',\n",
    "           'Romney, Mitt': 'Republican',\n",
    "           'Santorum, Rick': 'Republican'}\n",
    "data['party'] = data['cand_nm'].map(parties)\n",
    "data.head()\n",
    "data['party'].value_counts()\n",
    "# data['contb_receipt_amt'].groupby(data['contbr_occupation']).sum().sort_values(ascending=False).head()\n",
    "# print(data[ data['contb_receipt_amt']<0 ].head())\n",
    "data.groupby('contbr_occupation')['contb_receipt_amt'].sum().sort_values(ascending=False).head(20)\n",
    "occupation_map = {\n",
    "  'INFORMATION REQUESTED PER BEST EFFORTS':'NOT PROVIDED',\n",
    "  'INFORMATION REQUESTED':'NOT PROVIDED',\n",
    "  'SELF' : 'SELF-EMPLOYED',\n",
    "  'SELF EMPLOYED' : 'SELF-EMPLOYED',\n",
    "  'C.E.O.':'CEO',\n",
    "  'LAWYER':'ATTORNEY',\n",
    "}\n",
    "#convert the occupation\n",
    "data.contbr_occupation = data.contbr_occupation.map( lambda x: occupation_map.get(x,x) )\n",
    "#convert the employer\n",
    "emp_mapping = {\n",
    "   'INFORMATION REQUESTED PER BEST EFFORTS' : 'NOT PROVIDED',\n",
    "   'INFORMATION REQUESTED' : 'NOT PROVIDED',\n",
    "   'SELF' : 'SELF-EMPLOYED',\n",
    "   'SELF EMPLOYED' : 'SELF-EMPLOYED',\n",
    "}\n",
    "data.contbr_employer = data.contbr_employer.map(lambda x: emp_mapping.get(x,x))\n",
    "##select the money > 0 \n",
    "data = data[data.contb_receipt_amt>0]\n",
    "data.groupby('cand_nm')['contb_receipt_amt'].sum().sort_values(ascending=False).head(20)\n",
    "\n",
    "# datavs = data[(data.cand_nm == 'Obama, Barack') or (data.cand_nm=='Romney, Mitt'),] \n",
    "# datavs = data[ data['cand_nm'].isin (['Obama, Barack', 'Romney, Mitt']) ]\n",
    "# print(datavs.shape)\n",
    "# print(datavs.head())\n",
    "datavs = data[ data.cand_nm.isin (['Obama, Barack', 'Romney, Mitt']) ].copy()\n",
    "print(datavs.head())\n",
    "bins = np.array([0,1,10,100,1000,10000,100000,1000000,10000000])\n",
    "labels = pd.cut(datavs.contb_receipt_amt, bins)\n",
    "print(labels.head(10))\n",
    "#pivot_table\n",
    "print(data.head())\n",
    "by_occupation = data.pivot_table(values='contb_receipt_amt',index='contbr_occupation', columns='party', aggfunc=np.sum)\n",
    "print(by_occupation.head())\n",
    "over2mm = by_occupation[ by_occupation.sum(1)>2000000 ]\n",
    "over2mm.head()\n",
    "over2mm.plot(kind='bar')\n"
   ]
  },
  {
   "cell_type": "code",
   "execution_count": 120,
   "metadata": {},
   "outputs": [
    {
     "name": "stdout",
     "output_type": "stream",
     "text": [
      "          cand_nm           contbr_nm contbr_st  \\\n",
      "411  Romney, Mitt  ELDERBAUM, WILLIAM        AA   \n",
      "412  Romney, Mitt  ELDERBAUM, WILLIAM        AA   \n",
      "413  Romney, Mitt    CARLSEN, RICHARD        AE   \n",
      "414  Romney, Mitt      DELUCA, PIERRE        AE   \n",
      "415  Romney, Mitt    SARGENT, MICHAEL        AE   \n",
      "\n",
      "                      contbr_employer          contbr_occupation  \\\n",
      "411                     US GOVERNMENT    FOREIGN SERVICE OFFICER   \n",
      "412                     US GOVERNMENT    FOREIGN SERVICE OFFICER   \n",
      "413       DEFENSE INTELLIGENCE AGENCY       INTELLIGENCE ANALYST   \n",
      "414                             CISCO                   ENGINEER   \n",
      "415  RAYTHEON TECHNICAL SERVICES CORP  COMPUTER SYSTEMS ENGINEER   \n",
      "\n",
      "     contb_receipt_amt contb_receipt_dt       party  \n",
      "411               25.0        01-FEB-12  Republican  \n",
      "412              110.0        01-FEB-12  Republican  \n",
      "413              250.0        13-APR-12  Republican  \n",
      "414               30.0        21-AUG-11  Republican  \n",
      "415              100.0        07-MAR-12  Republican  \n",
      "grouped version\n",
      "              cand_nm            contbr_nm contbr_st  \\\n",
      "411      Romney, Mitt   ELDERBAUM, WILLIAM        AA   \n",
      "412      Romney, Mitt   ELDERBAUM, WILLIAM        AA   \n",
      "413      Romney, Mitt     CARLSEN, RICHARD        AE   \n",
      "414      Romney, Mitt       DELUCA, PIERRE        AE   \n",
      "415      Romney, Mitt     SARGENT, MICHAEL        AE   \n",
      "107640  Obama, Barack        BARNARD, ERIC        AA   \n",
      "107641  Obama, Barack       HESTER, COREEN        AA   \n",
      "107642  Obama, Barack  ST. HILAIRE, PIERRE        AA   \n",
      "107643  Obama, Barack  BRIDGEWATER, PAMELA        AA   \n",
      "107647  Obama, Barack        BARNARD, ERIC        AA   \n",
      "\n",
      "                         contbr_employer          contbr_occupation  \\\n",
      "411                        US GOVERNMENT    FOREIGN SERVICE OFFICER   \n",
      "412                        US GOVERNMENT    FOREIGN SERVICE OFFICER   \n",
      "413          DEFENSE INTELLIGENCE AGENCY       INTELLIGENCE ANALYST   \n",
      "414                                CISCO                   ENGINEER   \n",
      "415     RAYTHEON TECHNICAL SERVICES CORP  COMPUTER SYSTEMS ENGINEER   \n",
      "107640                    U.S. AIR FORCE            MILITARY POLICE   \n",
      "107641     THE AMERICAN SCHOOL IN LONDON                   EDUCATOR   \n",
      "107642          US DEPARTMENT OF JUSTICE                   ATTORNEY   \n",
      "107643                    DEPT. OF STATE                   DIPLOMAT   \n",
      "107647                    U.S. AIR FORCE            MILITARY POLICE   \n",
      "\n",
      "        contb_receipt_amt contb_receipt_dt       party  \n",
      "411                  25.0        01-FEB-12  Republican  \n",
      "412                 110.0        01-FEB-12  Republican  \n",
      "413                 250.0        13-APR-12  Republican  \n",
      "414                  30.0        21-AUG-11  Republican  \n",
      "415                 100.0        07-MAR-12  Republican  \n",
      "107640              100.0        30-SEP-11    Democrat  \n",
      "107641              500.0        30-DEC-11    Democrat  \n",
      "107642              300.0        30-SEP-11    Democrat  \n",
      "107643              500.0        30-SEP-11    Democrat  \n",
      "107647               50.0        30-SEP-11    Democrat  \n",
      "cand_nm        contbr_occupation\n",
      "Obama, Barack  RETIRED              25305316.38\n",
      "               ATTORNEY             14302461.84\n",
      "               Not Provided          8858213.36\n",
      "               NOT PROVIDED          4866973.96\n",
      "               HOMEMAKER             4248875.80\n",
      "               PHYSICIAN             3735124.94\n",
      "               CONSULTANT            2459912.71\n",
      "Romney, Mitt   RETIRED              11508473.59\n",
      "               NOT PROVIDED         11396894.84\n",
      "               HOMEMAKER             8147446.22\n",
      "               ATTORNEY              5372424.02\n",
      "               PRESIDENT             2491244.89\n",
      "               CEO                   2324297.03\n",
      "               EXECUTIVE             2300947.03\n",
      "Name: contb_receipt_amt, dtype: float64\n",
      "cand_nm        contbr_employer\n",
      "Obama, Barack  RETIRED            22694558.85\n",
      "               SELF-EMPLOYED      18626807.16\n",
      "               Not Provided        8830013.66\n",
      "               NOT EMPLOYED        8586308.70\n",
      "               NOT PROVIDED        5053480.37\n",
      "Romney, Mitt   NOT PROVIDED       12059527.24\n",
      "               RETIRED            11506225.71\n",
      "               HOMEMAKER           8147196.22\n",
      "               SELF-EMPLOYED       7414115.22\n",
      "               STUDENT              496490.94\n",
      "Name: contb_receipt_amt, dtype: float64\n"
     ]
    }
   ],
   "source": [
    "print(datavs.head())\n",
    "grouped = datavs.groupby('cand_nm') # 为了for循环 处理多组数据  and apply\n",
    "print('grouped version')\n",
    "print(grouped.head())\n",
    "def get_top_amounts(group, key, n=5):\n",
    "    total = group.groupby(key)['contb_receipt_amt'].sum().sort_values(ascending=False)[:n]\n",
    "    return total\n",
    "    \n",
    "occupation = grouped.apply(get_top_amounts, 'contbr_occupation', n=7)\n",
    "print(occupation)\n",
    "#employer\n",
    "employer = grouped.apply(get_top_amounts, 'contbr_employer')\n",
    "print(employer)\n"
   ]
  },
  {
   "cell_type": "code",
   "execution_count": 169,
   "metadata": {},
   "outputs": [
    {
     "name": "stdout",
     "output_type": "stream",
     "text": [
      "          cand_nm           contbr_nm contbr_st  \\\n",
      "411  Romney, Mitt  ELDERBAUM, WILLIAM        AA   \n",
      "412  Romney, Mitt  ELDERBAUM, WILLIAM        AA   \n",
      "413  Romney, Mitt    CARLSEN, RICHARD        AE   \n",
      "414  Romney, Mitt      DELUCA, PIERRE        AE   \n",
      "415  Romney, Mitt    SARGENT, MICHAEL        AE   \n",
      "\n",
      "                      contbr_employer          contbr_occupation  \\\n",
      "411                     US GOVERNMENT    FOREIGN SERVICE OFFICER   \n",
      "412                     US GOVERNMENT    FOREIGN SERVICE OFFICER   \n",
      "413       DEFENSE INTELLIGENCE AGENCY       INTELLIGENCE ANALYST   \n",
      "414                             CISCO                   ENGINEER   \n",
      "415  RAYTHEON TECHNICAL SERVICES CORP  COMPUTER SYSTEMS ENGINEER   \n",
      "\n",
      "     contb_receipt_amt contb_receipt_dt       party  \n",
      "411               25.0        01-FEB-12  Republican  \n",
      "412              110.0        01-FEB-12  Republican  \n",
      "413              250.0        13-APR-12  Republican  \n",
      "414               30.0        21-AUG-11  Republican  \n",
      "415              100.0        07-MAR-12  Republican  \n",
      "411      (10, 100]\n",
      "412    (100, 1000]\n",
      "413    (100, 1000]\n",
      "414      (10, 100]\n",
      "415      (10, 100]\n",
      "Name: contb_receipt_amt, dtype: category\n",
      "Categories (8, interval[int64]): [(0, 1] < (1, 10] < (10, 100] < (100, 1000] < (1000, 10000] < (10000, 100000] < (100000, 1000000] < (1000000, 10000000]]\n",
      "cand_nm              Obama, Barack  Romney, Mitt\n",
      "contb_receipt_amt                               \n",
      "(0, 1]                      318.24         77.00\n",
      "(1, 10]                  337267.62      29819.66\n",
      "(10, 100]              20288981.41    1987783.76\n",
      "(100, 1000]            54798731.46   22363381.69\n",
      "(1000, 10000]          51753705.67   63942145.42\n",
      "(10000, 100000]           59100.00      12700.00\n",
      "(100000, 1000000]       1490683.08           NaN\n",
      "(1000000, 10000000]     7148839.76           NaN\n",
      "contb_receipt_amt\n",
      "(0, 1]                 3.952400e+02\n",
      "(1, 10]                3.670873e+05\n",
      "(10, 100]              2.227677e+07\n",
      "(100, 1000]            7.716211e+07\n",
      "(1000, 10000]          1.156959e+08\n",
      "(10000, 100000]        7.180000e+04\n",
      "(100000, 1000000]      1.490683e+06\n",
      "(1000000, 10000000]    7.148840e+06\n",
      "dtype: float64\n",
      "cand_nm              Obama, Barack  Romney, Mitt\n",
      "contb_receipt_amt                               \n",
      "(0, 1]                    0.805182      0.194818\n",
      "(1, 10]                   0.918767      0.081233\n",
      "(10, 100]                 0.910769      0.089231\n",
      "(100, 1000]               0.710177      0.289823\n",
      "(1000, 10000]             0.447326      0.552674\n",
      "(10000, 100000]           0.823120      0.176880\n",
      "(100000, 1000000]         1.000000           NaN\n",
      "(1000000, 10000000]       1.000000           NaN\n"
     ]
    },
    {
     "data": {
      "text/plain": [
       "<matplotlib.axes._subplots.AxesSubplot at 0xa20aaed30>"
      ]
     },
     "execution_count": 169,
     "metadata": {},
     "output_type": "execute_result"
    },
    {
     "data": {
      "image/png": "[encoded data removed]",
      "text/plain": [
       "<Figure size 432x288 with 1 Axes>"
      ]
     },
     "metadata": {
      "needs_background": "light"
     },
     "output_type": "display_data"
    },
    {
     "data": {
      "image/png": "[encoded data removed]",
      "text/plain": [
       "<Figure size 432x288 with 1 Axes>"
      ]
     },
     "metadata": {
      "needs_background": "light"
     },
     "output_type": "display_data"
    }
   ],
   "source": [
    "print(datavs[:5])\n",
    "print(labels[:5])\n",
    "grouped_bins = datavs.groupby(['cand_nm',labels])\n",
    "# grouped_bins = datavs.groupby(['cand_nm',labels])['contb_receipt_amt'].sum().unstack()\n",
    "# print(grouped_bins)\n",
    "# print(grouped_bins.head())\n",
    "bucket_sum = grouped_bins['contb_receipt_amt'].sum().unstack(0)\n",
    "print(bucket_sum)\n",
    "bucket_sum.plot(kind='barh')\n",
    "print(bucket_sum.sum(axis=1))\n",
    "normed_sum = bucket_sum.div( bucket_sum.sum(axis=1), axis=0 )\n",
    "print(normed_sum)\n",
    "normed_sum.plot(kind='bar',stacked=True)\n",
    "# print(grouped_bins.size().unstack().T)\n",
    "# print(grouped_bins.size().unstack(0))\n"
   ]
  },
  {
   "cell_type": "code",
   "execution_count": 136,
   "metadata": {},
   "outputs": [
    {
     "name": "stdout",
     "output_type": "stream",
     "text": [
      "              cand_nm           contbr_nm contbr_st contbr_employer  \\\n",
      "0  Bachmann, Michelle     HARVEY, WILLIAM        AL         RETIRED   \n",
      "1  Bachmann, Michelle     HARVEY, WILLIAM        AL         RETIRED   \n",
      "2  Bachmann, Michelle       SMITH, LANIER        AL    NOT PROVIDED   \n",
      "3  Bachmann, Michelle    BLEVINS, DARONDA        AR            NONE   \n",
      "4  Bachmann, Michelle  WARDENBURG, HAROLD        AR            NONE   \n",
      "\n",
      "  contbr_occupation  contb_receipt_amt contb_receipt_dt       party  \n",
      "0           RETIRED              250.0        20-JUN-11  Republican  \n",
      "1           RETIRED               50.0        23-JUN-11  Republican  \n",
      "2      NOT PROVIDED              250.0        05-JUL-11  Republican  \n",
      "3           RETIRED              250.0        01-AUG-11  Republican  \n",
      "4           RETIRED              300.0        20-JUN-11  Republican  \n",
      "party                                Democrat  Republican\n",
      "contbr_occupation                                        \n",
      "   MIXED-MEDIA ARTIST / STORYTELLER     100.0         NaN\n",
      " AREA VICE PRESIDENT                    250.0         NaN\n",
      " RESEARCH ASSOCIATE                     100.0         NaN\n",
      " TEACHER                                500.0         NaN\n",
      " THERAPIST                             3900.0         NaN\n",
      "contbr_occupation                    party   \n",
      "   MIXED-MEDIA ARTIST / STORYTELLER  Democrat     100.0\n",
      " AREA VICE PRESIDENT                 Democrat     250.0\n",
      " RESEARCH ASSOCIATE                  Democrat     100.0\n",
      " TEACHER                             Democrat     500.0\n",
      " THERAPIST                           Democrat    3900.0\n",
      "Name: contb_receipt_amt, dtype: float64\n",
      "party                                Democrat  Republican\n",
      "contbr_occupation                                        \n",
      "   MIXED-MEDIA ARTIST / STORYTELLER     100.0         NaN\n",
      " AREA VICE PRESIDENT                    250.0         NaN\n",
      " RESEARCH ASSOCIATE                     100.0         NaN\n",
      " TEACHER                                500.0         NaN\n",
      " THERAPIST                             3900.0         NaN\n"
     ]
    }
   ],
   "source": [
    "#two ways   /// compare pivot_table and groupby\n",
    "print(data.head())\n",
    "by_occupation = data.pivot_table('contb_receipt_amt',index='contbr_occupation',columns='party',aggfunc='sum')\n",
    "print(by_occupation.head())\n",
    "\n",
    "new = data.groupby(['contbr_occupation','party'])['contb_receipt_amt'].sum()\n",
    "print(new.head())\n",
    "print(new.unstack().head())"
   ]
  },
  {
   "cell_type": "code",
   "execution_count": 194,
   "metadata": {},
   "outputs": [
    {
     "name": "stdout",
     "output_type": "stream",
     "text": [
      "              cand_nm           contbr_nm contbr_st contbr_employer  \\\n",
      "0  Bachmann, Michelle     HARVEY, WILLIAM        AL         RETIRED   \n",
      "1  Bachmann, Michelle     HARVEY, WILLIAM        AL         RETIRED   \n",
      "2  Bachmann, Michelle       SMITH, LANIER        AL    NOT PROVIDED   \n",
      "3  Bachmann, Michelle    BLEVINS, DARONDA        AR            NONE   \n",
      "4  Bachmann, Michelle  WARDENBURG, HAROLD        AR            NONE   \n",
      "\n",
      "  contbr_occupation  contb_receipt_amt contb_receipt_dt       party  \n",
      "0           RETIRED              250.0        20-JUN-11  Republican  \n",
      "1           RETIRED               50.0        23-JUN-11  Republican  \n",
      "2      NOT PROVIDED              250.0        05-JUL-11  Republican  \n",
      "3           RETIRED              250.0        01-AUG-11  Republican  \n",
      "4           RETIRED              300.0        20-JUN-11  Republican  \n",
      "(991477, 8)\n",
      "contbr_nm\n",
      "WILLIAMS, DEBBY         205\n",
      "BERKE, DAVID MICHAEL    171\n",
      "SEBAG, DAVID            161\n",
      "SMITH, ERIK             145\n",
      "FALLSGRAFF, TOBY        138\n",
      "Name: contbr_nm, dtype: int64\n"
     ]
    }
   ],
   "source": [
    "print(data.head())\n",
    "print(np.shape(data))\n",
    "print(data.groupby('contbr_nm')['contbr_nm'].count().sort_values(ascending=False)[:5])\n",
    "# print(data.groupby('contbr_nm')['contbr_nm'].value_counts(ascending=False)[:5])\n",
    "temp = data.groupby('contbr_nm')\n",
    "# print(pd.DataFrame(temp['contbr_nm']).value_counts(ascending=False))\n",
    "# print(data['contbr_nm'].value_counts(ascending=False)[:5])"
   ]
  },
  {
   "cell_type": "code",
   "execution_count": 205,
   "metadata": {},
   "outputs": [
    {
     "name": "stdout",
     "output_type": "stream",
     "text": [
      "   0\n",
      "0  3\n",
      "1  5\n",
      "2  6\n",
      "count\n"
     ]
    },
    {
     "ename": "AttributeError",
     "evalue": "'numpy.int64' object has no attribute 'sort_values'",
     "output_type": "error",
     "traceback": [
      "\u001b[0;31m---------------------------------------------------------------------------\u001b[0m",
      "\u001b[0;31mAttributeError\u001b[0m                            Traceback (most recent call last)",
      "\u001b[0;32m<ipython-input-205-8f1b649eacd9>\u001b[0m in \u001b[0;36m<module>\u001b[0;34m()\u001b[0m\n\u001b[1;32m      3\u001b[0m \u001b[0mprint\u001b[0m\u001b[0;34m(\u001b[0m\u001b[0mb\u001b[0m\u001b[0;34m)\u001b[0m\u001b[0;34m\u001b[0m\u001b[0m\n\u001b[1;32m      4\u001b[0m \u001b[0mprint\u001b[0m\u001b[0;34m(\u001b[0m\u001b[0;34m'count'\u001b[0m\u001b[0;34m)\u001b[0m\u001b[0;34m\u001b[0m\u001b[0m\n\u001b[0;32m----> 5\u001b[0;31m \u001b[0mprint\u001b[0m\u001b[0;34m(\u001b[0m\u001b[0mb\u001b[0m\u001b[0;34m[\u001b[0m\u001b[0;36m0\u001b[0m\u001b[0;34m]\u001b[0m\u001b[0;34m.\u001b[0m\u001b[0mcount\u001b[0m\u001b[0;34m(\u001b[0m\u001b[0;34m)\u001b[0m\u001b[0;34m.\u001b[0m\u001b[0msort_values\u001b[0m\u001b[0;34m(\u001b[0m\u001b[0;34m)\u001b[0m\u001b[0;34m)\u001b[0m\u001b[0;34m\u001b[0m\u001b[0m\n\u001b[0m\u001b[1;32m      6\u001b[0m \u001b[0mprint\u001b[0m\u001b[0;34m(\u001b[0m\u001b[0;34m'value_counts'\u001b[0m\u001b[0;34m)\u001b[0m\u001b[0;34m\u001b[0m\u001b[0m\n\u001b[1;32m      7\u001b[0m \u001b[0mprint\u001b[0m\u001b[0;34m(\u001b[0m\u001b[0mb\u001b[0m\u001b[0;34m[\u001b[0m\u001b[0;36m0\u001b[0m\u001b[0;34m]\u001b[0m\u001b[0;34m.\u001b[0m\u001b[0mvalue_counts\u001b[0m\u001b[0;34m(\u001b[0m\u001b[0;34m)\u001b[0m\u001b[0;34m)\u001b[0m\u001b[0;34m\u001b[0m\u001b[0m\n",
      "\u001b[0;31mAttributeError\u001b[0m: 'numpy.int64' object has no attribute 'sort_values'"
     ]
    }
   ],
   "source": [
    "a = [3,5,6]\n",
    "b = pd.DataFrame(a)\n",
    "print(b)\n",
    "print('count')\n",
    "print(b[0].count().sort_values())\n",
    "print('value_counts')\n",
    "print(b[0].value_counts())\n",
    "# print(a.count())"
   ]
  },
  {
   "cell_type": "code",
   "execution_count": 222,
   "metadata": {},
   "outputs": [
    {
     "name": "stdout",
     "output_type": "stream",
     "text": [
      "          cand_nm           contbr_nm contbr_st  \\\n",
      "411  Romney, Mitt  ELDERBAUM, WILLIAM        AA   \n",
      "412  Romney, Mitt  ELDERBAUM, WILLIAM        AA   \n",
      "413  Romney, Mitt    CARLSEN, RICHARD        AE   \n",
      "414  Romney, Mitt      DELUCA, PIERRE        AE   \n",
      "415  Romney, Mitt    SARGENT, MICHAEL        AE   \n",
      "\n",
      "                      contbr_employer          contbr_occupation  \\\n",
      "411                     US GOVERNMENT    FOREIGN SERVICE OFFICER   \n",
      "412                     US GOVERNMENT    FOREIGN SERVICE OFFICER   \n",
      "413       DEFENSE INTELLIGENCE AGENCY       INTELLIGENCE ANALYST   \n",
      "414                             CISCO                   ENGINEER   \n",
      "415  RAYTHEON TECHNICAL SERVICES CORP  COMPUTER SYSTEMS ENGINEER   \n",
      "\n",
      "     contb_receipt_amt contb_receipt_dt       party       time  \n",
      "411               25.0        01-FEB-12  Republican 2012-02-01  \n",
      "412              110.0        01-FEB-12  Republican 2012-02-01  \n",
      "413              250.0        13-APR-12  Republican 2012-04-13  \n",
      "414               30.0        21-AUG-11  Republican 2011-08-21  \n",
      "415              100.0        07-MAR-12  Republican 2012-03-07  \n"
     ]
    }
   ],
   "source": [
    "# print(datavs.head())\n",
    "datavs['time'] = pd.to_datetime(datavs['contb_receipt_dt'])\n",
    "print(datavs.head())\n",
    "datavs.set_index('time',inplace=True)"
   ]
  },
  {
   "cell_type": "code",
   "execution_count": 228,
   "metadata": {},
   "outputs": [
    {
     "ename": "TypeError",
     "evalue": "Only valid with DatetimeIndex, TimedeltaIndex or PeriodIndex, but got an instance of 'Int64Index'",
     "output_type": "error",
     "traceback": [
      "\u001b[0;31m---------------------------------------------------------------------------\u001b[0m",
      "\u001b[0;31mTypeError\u001b[0m                                 Traceback (most recent call last)",
      "\u001b[0;32m<ipython-input-228-a9fe62766e17>\u001b[0m in \u001b[0;36m<module>\u001b[0;34m()\u001b[0m\n\u001b[0;32m----> 1\u001b[0;31m \u001b[0mvs_time\u001b[0m \u001b[0;34m=\u001b[0m \u001b[0mdatavs\u001b[0m\u001b[0;34m.\u001b[0m\u001b[0mgroupby\u001b[0m\u001b[0;34m(\u001b[0m\u001b[0;34m'cand_nm'\u001b[0m\u001b[0;34m)\u001b[0m\u001b[0;34m.\u001b[0m\u001b[0mresample\u001b[0m\u001b[0;34m(\u001b[0m\u001b[0;34m'M'\u001b[0m\u001b[0;34m)\u001b[0m\u001b[0;34m[\u001b[0m\u001b[0;34m'cand_nm'\u001b[0m\u001b[0;34m]\u001b[0m\u001b[0;34m.\u001b[0m\u001b[0mcount\u001b[0m\u001b[0;34m(\u001b[0m\u001b[0;34m)\u001b[0m\u001b[0;34m\u001b[0m\u001b[0m\n\u001b[0m\u001b[1;32m      2\u001b[0m \u001b[0mprint\u001b[0m\u001b[0;34m(\u001b[0m\u001b[0mvs_time\u001b[0m\u001b[0;34m.\u001b[0m\u001b[0munstack\u001b[0m\u001b[0;34m(\u001b[0m\u001b[0;36m0\u001b[0m\u001b[0;34m)\u001b[0m\u001b[0;34m)\u001b[0m\u001b[0;34m\u001b[0m\u001b[0m\n",
      "\u001b[0;32m/anaconda3/lib/python3.7/site-packages/pandas/core/groupby/groupby.py\u001b[0m in \u001b[0;36mresample\u001b[0;34m(self, rule, *args, **kwargs)\u001b[0m\n\u001b[1;32m   1500\u001b[0m         \"\"\"\n\u001b[1;32m   1501\u001b[0m         \u001b[0;32mfrom\u001b[0m \u001b[0mpandas\u001b[0m\u001b[0;34m.\u001b[0m\u001b[0mcore\u001b[0m\u001b[0;34m.\u001b[0m\u001b[0mresample\u001b[0m \u001b[0;32mimport\u001b[0m \u001b[0mget_resampler_for_grouping\u001b[0m\u001b[0;34m\u001b[0m\u001b[0m\n\u001b[0;32m-> 1502\u001b[0;31m         \u001b[0;32mreturn\u001b[0m \u001b[0mget_resampler_for_grouping\u001b[0m\u001b[0;34m(\u001b[0m\u001b[0mself\u001b[0m\u001b[0;34m,\u001b[0m \u001b[0mrule\u001b[0m\u001b[0;34m,\u001b[0m \u001b[0;34m*\u001b[0m\u001b[0margs\u001b[0m\u001b[0;34m,\u001b[0m \u001b[0;34m**\u001b[0m\u001b[0mkwargs\u001b[0m\u001b[0;34m)\u001b[0m\u001b[0;34m\u001b[0m\u001b[0m\n\u001b[0m\u001b[1;32m   1503\u001b[0m \u001b[0;34m\u001b[0m\u001b[0m\n\u001b[1;32m   1504\u001b[0m     \u001b[0;34m@\u001b[0m\u001b[0mSubstitution\u001b[0m\u001b[0;34m(\u001b[0m\u001b[0mname\u001b[0m\u001b[0;34m=\u001b[0m\u001b[0;34m'groupby'\u001b[0m\u001b[0;34m)\u001b[0m\u001b[0;34m\u001b[0m\u001b[0m\n",
      "\u001b[0;32m/anaconda3/lib/python3.7/site-packages/pandas/core/resample.py\u001b[0m in \u001b[0;36mget_resampler_for_grouping\u001b[0;34m(groupby, rule, how, fill_method, limit, kind, **kwargs)\u001b[0m\n\u001b[1;32m   1160\u001b[0m \u001b[0;34m\u001b[0m\u001b[0m\n\u001b[1;32m   1161\u001b[0m     \u001b[0mtg\u001b[0m \u001b[0;34m=\u001b[0m \u001b[0mTimeGrouper\u001b[0m\u001b[0;34m(\u001b[0m\u001b[0mfreq\u001b[0m\u001b[0;34m=\u001b[0m\u001b[0mrule\u001b[0m\u001b[0;34m,\u001b[0m \u001b[0;34m**\u001b[0m\u001b[0mkwargs\u001b[0m\u001b[0;34m)\u001b[0m\u001b[0;34m\u001b[0m\u001b[0m\n\u001b[0;32m-> 1162\u001b[0;31m     \u001b[0mresampler\u001b[0m \u001b[0;34m=\u001b[0m \u001b[0mtg\u001b[0m\u001b[0;34m.\u001b[0m\u001b[0m_get_resampler\u001b[0m\u001b[0;34m(\u001b[0m\u001b[0mgroupby\u001b[0m\u001b[0;34m.\u001b[0m\u001b[0mobj\u001b[0m\u001b[0;34m,\u001b[0m \u001b[0mkind\u001b[0m\u001b[0;34m=\u001b[0m\u001b[0mkind\u001b[0m\u001b[0;34m)\u001b[0m\u001b[0;34m\u001b[0m\u001b[0m\n\u001b[0m\u001b[1;32m   1163\u001b[0m     \u001b[0mr\u001b[0m \u001b[0;34m=\u001b[0m \u001b[0mresampler\u001b[0m\u001b[0;34m.\u001b[0m\u001b[0m_get_resampler_for_grouping\u001b[0m\u001b[0;34m(\u001b[0m\u001b[0mgroupby\u001b[0m\u001b[0;34m=\u001b[0m\u001b[0mgroupby\u001b[0m\u001b[0;34m)\u001b[0m\u001b[0;34m\u001b[0m\u001b[0m\n\u001b[1;32m   1164\u001b[0m     return _maybe_process_deprecations(r,\n",
      "\u001b[0;32m/anaconda3/lib/python3.7/site-packages/pandas/core/resample.py\u001b[0m in \u001b[0;36m_get_resampler\u001b[0;34m(self, obj, kind)\u001b[0m\n\u001b[1;32m   1274\u001b[0m         raise TypeError(\"Only valid with DatetimeIndex, \"\n\u001b[1;32m   1275\u001b[0m                         \u001b[0;34m\"TimedeltaIndex or PeriodIndex, \"\u001b[0m\u001b[0;34m\u001b[0m\u001b[0m\n\u001b[0;32m-> 1276\u001b[0;31m                         \"but got an instance of %r\" % type(ax).__name__)\n\u001b[0m\u001b[1;32m   1277\u001b[0m \u001b[0;34m\u001b[0m\u001b[0m\n\u001b[1;32m   1278\u001b[0m     \u001b[0;32mdef\u001b[0m \u001b[0m_get_grouper\u001b[0m\u001b[0;34m(\u001b[0m\u001b[0mself\u001b[0m\u001b[0;34m,\u001b[0m \u001b[0mobj\u001b[0m\u001b[0;34m,\u001b[0m \u001b[0mvalidate\u001b[0m\u001b[0;34m=\u001b[0m\u001b[0;32mTrue\u001b[0m\u001b[0;34m)\u001b[0m\u001b[0;34m:\u001b[0m\u001b[0;34m\u001b[0m\u001b[0m\n",
      "\u001b[0;31mTypeError\u001b[0m: Only valid with DatetimeIndex, TimedeltaIndex or PeriodIndex, but got an instance of 'Int64Index'"
     ]
    }
   ],
   "source": [
    "vs_time = datavs.groupby('cand_nm').resample('M')['cand_nm'].count()\n",
    "print(vs_time.unstack(0))"
   ]
  },
  {
   "cell_type": "code",
   "execution_count": 233,
   "metadata": {},
   "outputs": [
    {
     "ename": "AttributeError",
     "evalue": "module 'pandas' has no attribute 'resample'",
     "output_type": "error",
     "traceback": [
      "\u001b[0;31m---------------------------------------------------------------------------\u001b[0m",
      "\u001b[0;31mAttributeError\u001b[0m                            Traceback (most recent call last)",
      "\u001b[0;32m<ipython-input-233-7ea9eb65fd2e>\u001b[0m in \u001b[0;36m<module>\u001b[0;34m()\u001b[0m\n\u001b[0;32m----> 1\u001b[0;31m \u001b[0mhelp\u001b[0m\u001b[0;34m(\u001b[0m\u001b[0mpd\u001b[0m\u001b[0;34m.\u001b[0m\u001b[0mresample\u001b[0m\u001b[0;34m(\u001b[0m\u001b[0;34m)\u001b[0m\u001b[0;34m)\u001b[0m\u001b[0;34m\u001b[0m\u001b[0m\n\u001b[0m",
      "\u001b[0;31mAttributeError\u001b[0m: module 'pandas' has no attribute 'resample'"
     ]
    }
   ],
   "source": [
    "help(pd.resample())"
   ]
  },
  {
   "cell_type": "code",
   "execution_count": null,
   "metadata": {},
   "outputs": [],
   "source": []
  }
 ],
 "metadata": {
  "kernelspec": {
   "display_name": "Python 3",
   "language": "python",
   "name": "python3"
  },
  "language_info": {
   "codemirror_mode": {
    "name": "ipython",
    "version": 3
   },
   "file_extension": ".py",
   "mimetype": "text/x-python",
   "name": "python",
   "nbconvert_exporter": "python",
   "pygments_lexer": "ipython3",
   "version": "3.7.0"
  }
 },
 "nbformat": 4,
 "nbformat_minor": 2
}
